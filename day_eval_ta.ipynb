{
 "cells": [
  {
   "cell_type": "code",
   "execution_count": 268,
   "id": "2c7a2492",
   "metadata": {},
   "outputs": [],
   "source": [
    "import pickle\n",
    "import numpy as np\n",
    "import pandas as pd\n",
    "import matplotlib.pyplot as plt\n",
    "import gym\n",
    "from gym import spaces\n",
    "import copy\n",
    "import os\n",
    "\n",
    "from stable_baselines3 import PPO\n",
    "from stable_baselines3.common.env_util import make_vec_env\n",
    "from stable_baselines3.common import results_plotter\n",
    "from stable_baselines3.common.monitor import Monitor\n",
    "from stable_baselines3.common.results_plotter import load_results, ts2xy, plot_results\n",
    "from stable_baselines3.common.callbacks import BaseCallback"
   ]
  },
  {
   "cell_type": "code",
   "execution_count": 271,
   "id": "345f15cf",
   "metadata": {},
   "outputs": [],
   "source": [
    "#Pull in testing data\n",
    "data = pickle.load(open('test_ta', 'rb'))\n",
    "\n",
    "#Technical indicators list. TODO: put these in a config file\n",
    "TECHNICAL_INDICATORS_LIST = [\"macd\", \"macds\",\n",
    "                             \"boll_ub\",\"boll_lb\",\n",
    "                             \"rsi_5\", \"rsi_14\", \"rsi_30\", \n",
    "                             \"cci_30\", \"dx_30\",\n",
    "                             \"open_5_sma\", \"open_14_sma\", \"open_30_sma\"]\n",
    "\n",
    "#stock tickers being looked at\n",
    "tickers = list(data.keys())\n",
    "\n",
    "#features is a list of all (non-price) features that are used in the observation\n",
    "\n",
    "features = list(data['DIS'].keys())\n",
    "features.remove('date')\n",
    "features.remove('tic')\n",
    "features.remove('price')\n",
    "\n",
    "#Helper function to perform softmax\n",
    "def softmax(x):\n",
    "    return np.exp(x)/sum(np.exp(x))\n",
    "\n",
    "\n",
    "INITIAL_BALANCE = 1000.0 #Start with balance of 1000 dollars\n",
    "NUM_PAST_STATES = 14 #use past 14 days of price data as part of observation\n",
    "EPISODE_LENGTH = 30 #each episode goes for 30 trading days\n",
    "\n",
    "\n",
    "#OpenAI Gym style environment for RL\n",
    "class TradeEnv(gym.Env):\n",
    "    def __init__(self, tickers):\n",
    "        super(TradeEnv, self).__init__()\n",
    "\n",
    "        self.tickers = tickers\n",
    "\n",
    "        self.data = {}\n",
    "        self.features = {}\n",
    "        self.means = {}\n",
    "        self.stds = {}\n",
    "        self.prices = {}\n",
    "        for key, value in data.items():\n",
    "            self.data[key] = value[features]\n",
    "            self.means[key] = np.mean(value[features], axis = 0)\n",
    "            self.stds[key] = np.std(value[features], axis = 0)\n",
    "            \n",
    "            #Normalize features to have zero mean and unit standard deviation\n",
    "            self.features[key] = np.divide(value[features] - self.means[key],\n",
    "                                          self.stds[key])\n",
    "            \n",
    "            self.prices[key] = value['price'].values\n",
    "        \n",
    "        self.prices = pd.DataFrame.from_dict(self.prices)\n",
    "        \n",
    "        #self.prices is a dataframe with each ticker being a key \n",
    "        #and the corresponding series representing the stock prices\n",
    "        \n",
    "        #Will be used later for normalization\n",
    "        self.price_means = np.mean(self.prices, axis = 0).values\n",
    "        self.price_stds = np.std(self.prices, axis = 0).values\n",
    "        \n",
    "\n",
    "        self.episode_length = EPISODE_LENGTH #number of trading minutes in episode\n",
    "\n",
    "        self.num_past_states = NUM_PAST_STATES #number of past days that are used in state\n",
    "\n",
    "        self.action_space = spaces.Box(low=-10, high=10, shape=(len(self.tickers) + 1,))\n",
    "                                            \n",
    "\n",
    "        obs_length = len(self.tickers)*(self.num_past_states) #observation due to past stacked states\n",
    "        obs_length += 1 #balance\n",
    "        obs_length += len(self.tickers) #holdings\n",
    "        obs_length += len(self.tickers)*len(features) #number of technical analysis features\n",
    "        self.observation_space = spaces.Box(low=-np.inf, high=np.inf,\n",
    "                                            shape=(obs_length,))\n",
    "\n",
    "\n",
    "    def step(self, action_):\n",
    "        \n",
    "        #Apply softmax to RL output so that actions sum to 1\n",
    "        action = softmax(action_)\n",
    "\n",
    "        #Liquidate past holdings\n",
    "        self.balance += np.sum(self.holdings)\n",
    "        \n",
    "        \n",
    "        #New Portfolio at end of day\n",
    "        self.holdings = self.balance*action[:-1]\n",
    "        self.balance = self.balance*action[-1]\n",
    "        \n",
    "        #Net worth at end of day\n",
    "        self.last_net_worth = self.balance + np.sum(self.holdings)\n",
    "        \n",
    "        #Step into next day\n",
    "        self.index += 1\n",
    "        #Get stock prices at next day\n",
    "        stock_obs = self.get_stock_obs(self.index)\n",
    "        self.next_prices = stock_obs[-1]\n",
    "        \n",
    "        #Update value of current holdings\n",
    "        perc_change = np.divide(self.next_prices, self.curr_prices)\n",
    "        self.holdings = np.multiply(self.holdings, perc_change)\n",
    "\n",
    "        self.curr_prices = self.next_prices\n",
    "        \n",
    "        self.net_worth = self.balance + np.sum(self.holdings)\n",
    "\n",
    "        rew = self.net_worth - self.last_net_worth # reward is the delta between last net worth and current net worth\n",
    "\n",
    "        self.steps += 1\n",
    "        done = (self.net_worth <= 0) or (self.steps >= self.episode_length)\n",
    "\n",
    "        obs = self.get_obs(stock_obs, self.balance, self.holdings, self.index)\n",
    "        self.cum_rew += rew\n",
    "\n",
    "        return obs, rew, done, {}\n",
    "    \n",
    "    \n",
    "    def get_stock_obs(self, index):\n",
    "\n",
    "        \n",
    "        ret= self.prices[index - self.num_past_states:index][self.tickers].values #stack data\n",
    "        return ret\n",
    "\n",
    "    def get_obs(self, stock_obs, balance, holdings, index):\n",
    "        #Normalize stock prices for inclusion in observations\n",
    "        prices_norm = np.divide(stock_obs - self.price_means,\n",
    "                               self.price_stds).reshape(-1,)\n",
    "        \n",
    "        feature_vals = np.array([])\n",
    "        ix = index - 1\n",
    "        #Add in features at current timestep, for each ticker\n",
    "        for tic in self.tickers:\n",
    "            feature_vals = np.append(feature_vals, (self.features[tic].iloc[ix][features].values))\n",
    "        \n",
    "        #Form observation and normalize balance and holdings\n",
    "        return np.concatenate([prices_norm, [balance/1000.0], holdings/1000.0, feature_vals])\n",
    "\n",
    "        \n",
    "    def reset(self, index = None):\n",
    "\n",
    "        self.cum_rew = 0.0\n",
    "        self.steps = 0\n",
    "        if index is None:\n",
    "            self.index = np.random.randint(2*NUM_PAST_STATES, len(self.prices) - EPISODE_LENGTH - 10)\n",
    "        else:\n",
    "            self.index = index\n",
    "\n",
    "        self.init_prices = self.prices[self.index-1:self.index + EPISODE_LENGTH]\n",
    "        stock_obs = self.get_stock_obs(self.index)\n",
    "        self.holdings = np.zeros(len(self.tickers)) #holdings of each stock in number of shares\n",
    "        self.balance = INITIAL_BALANCE\n",
    "        self.last_net_worth = INITIAL_BALANCE\n",
    "        self.net_worth = INITIAL_BALANCE\n",
    "        \n",
    "        self.curr_prices = stock_obs[-1]\n",
    "        \n",
    "\n",
    "        obs = self.get_obs(stock_obs, self.balance, self.holdings, self.index)\n",
    "        return obs  # reward, done, info can't be included\n",
    "\n"
   ]
  },
  {
   "cell_type": "code",
   "execution_count": 272,
   "id": "8b2e27e0",
   "metadata": {},
   "outputs": [],
   "source": [
    "#Load best trained model\n",
    "model = PPO.load('rl_with_ta/best_model.zip')"
   ]
  },
  {
   "cell_type": "code",
   "execution_count": 283,
   "id": "06f1dd2f",
   "metadata": {},
   "outputs": [
    {
     "name": "stdout",
     "output_type": "stream",
     "text": [
      "1109.6689292044277\n"
     ]
    }
   ],
   "source": [
    "\n",
    "trade_env = TradeEnv(tickers=tickers)\n",
    "INITIAL_BALANCE = 1000.0\n",
    "done = False\n",
    "obs = trade_env.reset()\n",
    "i = 0\n",
    "obss = []\n",
    "actions = []\n",
    "net_worths = []\n",
    "while not done:\n",
    "    #print (i)\n",
    "    \n",
    "    action = model.predict(obs, deterministic = True)[0]\n",
    "\n",
    "    actions.append(action)\n",
    "    net_worths.append(trade_env.net_worth)\n",
    "\n",
    "    obs, rew, done, _ = trade_env.step(action)\n",
    "    obss.append(obs)\n",
    "    \n",
    "    i+= 1\n",
    "obss = np.array(obss)\n",
    "\n",
    "print (trade_env.net_worth)\n",
    "actions = np.array(actions)\n",
    "net_worths = np.array(net_worths)"
   ]
  },
  {
   "cell_type": "code",
   "execution_count": 284,
   "id": "88fdc443",
   "metadata": {},
   "outputs": [],
   "source": [
    "data = pickle.load(open('test_ta', 'rb'))\n",
    "\n",
    "TECHNICAL_INDICATORS_LIST = [\"macd\", \"macds\",\n",
    "                             \"boll_ub\",\"boll_lb\",\n",
    "                             \"rsi_5\", \"rsi_14\", \"rsi_30\", \n",
    "                             \"cci_30\", \"dx_30\",\n",
    "                             \"open_5_sma\", \"open_14_sma\", \"open_30_sma\"]\n",
    "\n",
    "tickers = list(data.keys())\n",
    "features = list(data['DIS'].keys())\n",
    "features.remove('date')\n",
    "features.remove('tic')\n",
    "features.remove('price')\n",
    "\n",
    "trade_env = TradeEnv(tickers=tickers)\n",
    "\n",
    "net_worths_train = []\n",
    "actions = []\n",
    "np.random.seed(100)\n",
    "\n",
    "for i in range(100):\n",
    "    INITIAL_BALANCE = 1000.0\n",
    "    done = False\n",
    "    obs = trade_env.reset()\n",
    "    while not done:\n",
    "        action = model.predict(obs, deterministic = True)[0]\n",
    "        actions.append(action)\n",
    "        obs, _, done, _ = trade_env.step(action)\n",
    "    net_worths_train.append(trade_env.net_worth)\n",
    "    \n",
    "actions = np.array(actions)"
   ]
  },
  {
   "cell_type": "code",
   "execution_count": null,
   "id": "de1221f3",
   "metadata": {},
   "outputs": [],
   "source": []
  },
  {
   "cell_type": "code",
   "execution_count": 189,
   "id": "97f6555b",
   "metadata": {},
   "outputs": [
    {
     "name": "stdout",
     "output_type": "stream",
     "text": [
      "1171.9707186620672\n"
     ]
    }
   ],
   "source": [
    "data = pickle.load(open('train_ta', 'rb'))\n",
    "\n",
    "TECHNICAL_INDICATORS_LIST = [\"macd\", \"macds\",\n",
    "                             \"boll_ub\",\"boll_lb\",\n",
    "                             \"rsi_5\", \"rsi_14\", \"rsi_30\", \n",
    "                             \"cci_30\", \"dx_30\",\n",
    "                             \"open_5_sma\", \"open_14_sma\", \"open_30_sma\"]\n",
    "\n",
    "tickers = list(data.keys())\n",
    "features = list(data['DIS'].keys())\n",
    "features.remove('date')\n",
    "features.remove('tic')\n",
    "features.remove('price')\n",
    "\n",
    "trade_env = TradeEnv(tickers=tickers)\n",
    "\n",
    "net_worths_test = []\n",
    "\n",
    "for i in range(100):\n",
    "    INITIAL_BALANCE = 1000.0\n",
    "    done = False\n",
    "    obs = trade_env.reset()\n",
    "    while not done:\n",
    "        action = model.predict(obs, deterministic = True)[0]\n",
    "        obs, _, done, _ = trade_env.step(action)\n",
    "    net_worths_test.append(trade_env.net_worth)\n",
    "    \n",
    "print (np.mean(net_worths_test))"
   ]
  },
  {
   "cell_type": "code",
   "execution_count": 190,
   "id": "45381a0d",
   "metadata": {},
   "outputs": [
    {
     "name": "stdout",
     "output_type": "stream",
     "text": [
      "1014.2416272403601\n"
     ]
    }
   ],
   "source": [
    "data = pickle.load(open('test_ta', 'rb'))\n",
    "\n",
    "TECHNICAL_INDICATORS_LIST = [\"macd\", \"macds\",\n",
    "                             \"boll_ub\",\"boll_lb\",\n",
    "                             \"rsi_5\", \"rsi_14\", \"rsi_30\", \n",
    "                             \"cci_30\", \"dx_30\",\n",
    "                             \"open_5_sma\", \"open_14_sma\", \"open_30_sma\"]\n",
    "\n",
    "tickers = list(data.keys())\n",
    "features = list(data['DIS'].keys())\n",
    "features.remove('date')\n",
    "features.remove('tic')\n",
    "features.remove('price')\n",
    "\n",
    "trade_env = TradeEnv(tickers=tickers)\n",
    "\n",
    "net_worths_rand = []\n",
    "\n",
    "for i in range(100):\n",
    "    INITIAL_BALANCE = 1000.0\n",
    "    done = False\n",
    "    obs = trade_env.reset()\n",
    "    while not done:\n",
    "        #action = model.predict(obs, deterministic = True)[0]\n",
    "        action = np.random.normal(size = len(tickers) + 1)\n",
    "        obs, _, done, _ = trade_env.step(action)\n",
    "    net_worths_rand.append(trade_env.net_worth)\n",
    "print (np.mean(net_worths_rand))"
   ]
  },
  {
   "cell_type": "code",
   "execution_count": 191,
   "id": "c8c339a5",
   "metadata": {},
   "outputs": [
    {
     "data": {
      "text/plain": [
       "(array([0.00020844, 0.        , 0.00041688, 0.00104219, 0.00521096,\n",
       "        0.00833754, 0.00312658, 0.00145907, 0.00083375, 0.00020844]),\n",
       " array([ 750.5848226 ,  798.56060402,  846.53638543,  894.51216685,\n",
       "         942.48794827,  990.46372968, 1038.4395111 , 1086.41529251,\n",
       "        1134.39107393, 1182.36685534, 1230.34263676]),\n",
       " <BarContainer object of 10 artists>)"
      ]
     },
     "execution_count": 191,
     "metadata": {},
     "output_type": "execute_result"
    },
    {
     "data": {
      "image/png": "[encoded data removed]",
      "text/plain": [
       "<Figure size 432x288 with 1 Axes>"
      ]
     },
     "metadata": {
      "needs_background": "light"
     },
     "output_type": "display_data"
    }
   ],
   "source": [
    "plt.hist(net_worths_train, density = True)\n",
    "plt.hist(net_worths_test, density = True)\n",
    "plt.hist(net_worths_rand, density = True)"
   ]
  },
  {
   "cell_type": "code",
   "execution_count": 192,
   "id": "0514c4a3",
   "metadata": {},
   "outputs": [
    {
     "data": {
      "text/plain": [
       "1166.3440142007469"
      ]
     },
     "execution_count": 192,
     "metadata": {},
     "output_type": "execute_result"
    }
   ],
   "source": [
    "np.mean(net_worths_train)"
   ]
  },
  {
   "cell_type": "code",
   "execution_count": 193,
   "id": "cc628188",
   "metadata": {},
   "outputs": [
    {
     "data": {
      "text/plain": [
       "1014.2416272403601"
      ]
     },
     "execution_count": 193,
     "metadata": {},
     "output_type": "execute_result"
    }
   ],
   "source": [
    "np.mean(net_worths_rand)"
   ]
  },
  {
   "cell_type": "code",
   "execution_count": 194,
   "id": "1f7f420b",
   "metadata": {},
   "outputs": [
    {
     "data": {
      "text/plain": [
       "1171.9707186620672"
      ]
     },
     "execution_count": 194,
     "metadata": {},
     "output_type": "execute_result"
    }
   ],
   "source": [
    "np.mean(net_worths_test)"
   ]
  },
  {
   "cell_type": "code",
   "execution_count": 48,
   "id": "45f64663",
   "metadata": {},
   "outputs": [],
   "source": [
    "trade_env = TradeEnv(tickers=tickers, path = 'test_day.csv')\n",
    "\n",
    "bh_nws = []\n",
    "for j in range(len(tickers) + 1):\n",
    "    nws = []\n",
    "\n",
    "    for i in range(100):\n",
    "        INITIAL_BALANCE = 1000.0\n",
    "        done = False\n",
    "        obs = trade_env.reset()\n",
    "        while not done:\n",
    "            #action = model.predict(obs, deterministic = True)[0]\n",
    "            action = -10*np.ones(6)\n",
    "            action[j] = 10\n",
    "            obs, _, done, _ = trade_env.step(action)\n",
    "        nws.append(trade_env.net_worth)\n",
    "    bh_nws.append(nws)\n"
   ]
  },
  {
   "cell_type": "code",
   "execution_count": 49,
   "id": "20f59e74",
   "metadata": {},
   "outputs": [
    {
     "name": "stdout",
     "output_type": "stream",
     "text": [
      "1003.3555318514889\n",
      "1003.5135475228999\n",
      "1004.8944073042595\n",
      "1008.8604851833978\n",
      "1004.8972773586585\n",
      "1000.0000000536487\n"
     ]
    }
   ],
   "source": [
    "for bhn in bh_nws:\n",
    "    print (np.mean(bhn))"
   ]
  },
  {
   "cell_type": "code",
   "execution_count": 61,
   "id": "79557f44",
   "metadata": {},
   "outputs": [],
   "source": [
    "init_i = 40\n",
    "irange = range(init_i, init_i + 30)"
   ]
  },
  {
   "cell_type": "code",
   "execution_count": 62,
   "id": "892ce650",
   "metadata": {},
   "outputs": [
    {
     "name": "stdout",
     "output_type": "stream",
     "text": [
      "1384.3488473089108\n"
     ]
    }
   ],
   "source": [
    "trade_env = TradeEnv(tickers=tickers, path = 'train_day.csv')\n",
    "\n",
    "net_worths_train = []\n",
    "\n",
    "\n",
    "\n",
    "\n",
    "INITIAL_BALANCE = 1000.0\n",
    "for i in range(init_i, init_i + 30):\n",
    "    done = False\n",
    "    obs = trade_env.reset(i*30)\n",
    "    while not done:\n",
    "        action = model.predict(obs, deterministic = True)[0]\n",
    "        obs, _, done, _ = trade_env.step(action)\n",
    "    INITIAL_BALANCE = trade_env.net_worth\n",
    "print (trade_env.net_worth)"
   ]
  },
  {
   "cell_type": "code",
   "execution_count": 73,
   "id": "fdee8300",
   "metadata": {},
   "outputs": [
    {
     "name": "stdout",
     "output_type": "stream",
     "text": [
      "1229.7324640956117\n"
     ]
    }
   ],
   "source": [
    "trade_env = TradeEnv(tickers=tickers, path = 'test_day.csv')\n",
    "\n",
    "net_worths_train = []\n",
    "\n",
    "\n",
    "\n",
    "INITIAL_BALANCE = 1000.0\n",
    "for i in irange:\n",
    "    done = False\n",
    "    obs = trade_env.reset(i*30)\n",
    "    while not done:\n",
    "        action = model.predict(obs, deterministic = True)[0]\n",
    "        obs, _, done, _ = trade_env.step(action)\n",
    "    INITIAL_BALANCE = trade_env.net_worth\n",
    "print (trade_env.net_worth)"
   ]
  },
  {
   "cell_type": "code",
   "execution_count": 74,
   "id": "226d7a38",
   "metadata": {},
   "outputs": [
    {
     "name": "stdout",
     "output_type": "stream",
     "text": [
      "1098.0057705523154\n"
     ]
    }
   ],
   "source": [
    "trade_env = TradeEnv(tickers=tickers, path = 'test_day.csv')\n",
    "\n",
    "net_worths_train = []\n",
    "\n",
    "\n",
    "\n",
    "INITIAL_BALANCE = 1000.0\n",
    "for i in irange:\n",
    "    done = False\n",
    "    obs = trade_env.reset(i*30)\n",
    "    while not done:\n",
    "        #action = model.predict(obs, deterministic = False)[0]\n",
    "        action = -10*np.zeros(6)\n",
    "        action[4] = 10\n",
    "        action = np.random.normal(size = 6)\n",
    "        obs, _, done, _ = trade_env.step(action)\n",
    "    INITIAL_BALANCE = trade_env.net_worth\n",
    "print (trade_env.net_worth)"
   ]
  },
  {
   "cell_type": "code",
   "execution_count": null,
   "id": "700e8418",
   "metadata": {},
   "outputs": [],
   "source": []
  },
  {
   "cell_type": "code",
   "execution_count": null,
   "id": "eec0afbe",
   "metadata": {},
   "outputs": [],
   "source": []
  }
 ],
 "metadata": {
  "kernelspec": {
   "display_name": "Python 3",
   "language": "python",
   "name": "python3"
  },
  "language_info": {
   "codemirror_mode": {
    "name": "ipython",
    "version": 3
   },
   "file_extension": ".py",
   "mimetype": "text/x-python",
   "name": "python",
   "nbconvert_exporter": "python",
   "pygments_lexer": "ipython3",
   "version": "3.7.3"
  }
 },
 "nbformat": 4,
 "nbformat_minor": 5
}
