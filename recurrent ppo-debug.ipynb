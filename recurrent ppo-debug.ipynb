{
 "cells": [
  {
   "cell_type": "code",
   "execution_count": 1,
   "id": "modified-consequence",
   "metadata": {},
   "outputs": [],
   "source": [
    "import pickle\n",
    "import numpy as np\n",
    "import pandas as pd\n",
    "import matplotlib.pyplot as plt\n",
    "import gym\n",
    "from gym import spaces\n",
    "import copy\n",
    "import os\n",
    "import torch\n",
    "import torch.nn as nn\n",
    "from torch.distributions.categorical import Categorical\n",
    "import torch.nn.functional as F\n",
    "from torch.autograd import Variable\n",
    "from tqdm import tqdm"
   ]
  },
  {
   "cell_type": "code",
   "execution_count": null,
   "id": "6554800b",
   "metadata": {},
   "outputs": [],
   "source": []
  },
  {
   "cell_type": "code",
   "execution_count": null,
   "id": "4458fd82",
   "metadata": {},
   "outputs": [],
   "source": []
  },
  {
   "cell_type": "code",
   "execution_count": 122,
   "id": "236bd7db",
   "metadata": {},
   "outputs": [],
   "source": [
    "def get_max_weight(network):\n",
    "    params = list(network.parameters())\n",
    "    max_val = -np.inf\n",
    "    for p in params:\n",
    "        v = torch.max(torch.abs(p))\n",
    "        if v > max_val:\n",
    "            max_val = v\n",
    "    return max_val\n",
    "\n",
    "\n",
    "def get_max_grad(network):\n",
    "    max_val = -np.inf\n",
    "    for param in network.parameters():\n",
    "        if param.grad is not None:\n",
    "            v = torch.max(torch.abs(param.grad))\n",
    "            if v > max_val:\n",
    "                max_val = v\n",
    "    return max_val\n"
   ]
  },
  {
   "cell_type": "markdown",
   "id": "resident-classroom",
   "metadata": {},
   "source": [
    "# Architecture for ACModel, Rollouts, and PPO"
   ]
  },
  {
   "cell_type": "code",
   "execution_count": 227,
   "id": "seeing-grill",
   "metadata": {},
   "outputs": [],
   "source": [
    "# these following functions were coded with reference to\n",
    "# https://github.com/ikostrikov/pytorch-a2c-ppo-acktr-gail\n",
    "\n",
    "def init_params(m):\n",
    "    classname = m.__class__.__name__\n",
    "    if classname.find(\"Linear\") != -1:\n",
    "        m.weight.data.normal_(0, 1)\n",
    "        m.weight.data *= 1 / torch.sqrt(m.weight.data.pow(2).sum(1, keepdim=True))\n",
    "        if m.bias is not None:\n",
    "            m.bias.data.fill_(0)\n",
    "\n",
    "def init_gru_params(gru):\n",
    "    for name, param in gru.named_parameters():\n",
    "        if 'bias' in name:\n",
    "            nn.init.constant_(param, 0)\n",
    "        elif 'weight' in name:\n",
    "            nn.init.orthogonal_(param)\n",
    "\n",
    "# this is from https://github.com/p-morais/deep-rl/blob/master/rl/distributions/gaussian.py\n",
    "class DiagonalGaussian(nn.Module):\n",
    "    def __init__(self, num_outputs, init_std=1, learn_std=True):\n",
    "        super(DiagonalGaussian, self).__init__()\n",
    "\n",
    "        self.logstd = nn.Parameter(\n",
    "            torch.ones(1, num_outputs) * np.log(init_std),\n",
    "            requires_grad=learn_std\n",
    "        )\n",
    "\n",
    "        self.learn_std = learn_std\n",
    "\n",
    "    def forward(self, x):\n",
    "        mean = x\n",
    "        \n",
    "#         print(self.logstd.sum())\n",
    "        std = self.logstd.exp()\n",
    "        \n",
    "        return mean, std\n",
    "\n",
    "    def sample(self, x, deterministic):\n",
    "        if deterministic is False:\n",
    "            action = self.evaluate(x).sample()\n",
    "        else:\n",
    "            action, _ = self(x)\n",
    "\n",
    "        return action\n",
    "\n",
    "    def evaluate(self, x):\n",
    "        mean, std = self(x)\n",
    "        output = torch.distributions.Normal(mean, std)\n",
    "        return output\n",
    "\n",
    "    \n",
    "class ACModel(nn.Module):\n",
    "    def __init__(self, num_tickers, time_horizon, num_ta_indicators, recurrent, hidden_size=64):\n",
    "        super().__init__()\n",
    "        \n",
    "        # num tickers, time horizon, and num ta used to compute the number of inputs\n",
    "        # for recurrent network, the input size to GRU is just the num tickers (prices at each timestep)\n",
    "        # and input size to the actor/critic is the current cash, holdings, and technical analysis for each ticker\n",
    "        # for feedforward, the input size is num tickers * time horizon\n",
    "        # and input size to the actor/critic is the current cash, holdings, and technical analysis for each ticker\n",
    "        self.num_tickers = num_tickers\n",
    "        self.time_horizon = time_horizon\n",
    "        self.num_ta_indicators = num_ta_indicators\n",
    "        \n",
    "        # TODO changed for cartpole\n",
    "        # action_dim = num_tickers + 1 # buy/sell for each ticker + 1 for cash\n",
    "        action_dim = 1\n",
    "        self.action_dim = action_dim\n",
    "        \n",
    "        self.recurrent = recurrent\n",
    "        if self.recurrent:\n",
    "            self.hidden_actor = self.init_hidden(time_horizon, hidden_size)\n",
    "            self.hidden_critic = self.init_hidden(time_horizon, hidden_size)\n",
    "            \n",
    "            num_inputs = num_tickers\n",
    "            \n",
    "            self.gru_actor = nn.GRU(num_inputs, hidden_size)\n",
    "            self.gru_critic = nn.GRU(num_inputs, hidden_size)\n",
    "            \n",
    "            init_gru_params(self.gru_actor)\n",
    "            init_gru_params(self.gru_critic)\n",
    "        else:\n",
    "            num_inputs = num_tickers * time_horizon\n",
    "            \n",
    "            self.fwd_actor = nn.Sequential(nn.Linear(num_inputs, hidden_size), nn.Tanh())\n",
    "            self.fwd_critic = nn.Sequential(nn.Linear(num_inputs, hidden_size), nn.Tanh())\n",
    "        \n",
    "        # output of gru/fwd, cash, holdings, and then all the ta indicators\n",
    "        # TODO changed for cartpole\n",
    "        # num_inputs = hidden_size + 1 + num_tickers + num_tickers * num_ta_indicators\n",
    "        num_inputs = hidden_size\n",
    "        \n",
    "        self.actor = nn.Sequential(\n",
    "            nn.Linear(num_inputs, hidden_size), nn.Tanh(),\n",
    "            nn.Linear(hidden_size, hidden_size), nn.Tanh(),\n",
    "            nn.Linear(hidden_size, action_dim)\n",
    "        )\n",
    "        \n",
    "        self.critic = nn.Sequential(\n",
    "            nn.Linear(num_inputs, hidden_size), nn.Tanh(),\n",
    "            nn.Linear(hidden_size, hidden_size), nn.Tanh(),\n",
    "            nn.Linear(hidden_size, 1)\n",
    "        )\n",
    "        \n",
    "        self.dist = DiagonalGaussian(action_dim, learn_std=False)\n",
    "\n",
    "        self.apply(init_params)\n",
    "    \n",
    "    def init_hidden(self, batch_size, hidden_size):\n",
    "        # h0 should be of shape (num_layers * num_directions, batch size, hidden_size)\n",
    "        # num_layers is 1, and RNN is not bidirectional, so num_dir = 1\n",
    "        # (1, batch_size, hidden size)\n",
    "        h = torch.zeros(1, batch_size, hidden_size)\n",
    "        return nn.Parameter(h, requires_grad=True)\n",
    "\n",
    "    def forward(self, obs, rnn_h_a=None, rnn_h_c=None):\n",
    "        # suppose obs is just a vector of previous prices\n",
    "        price_obs = obs[:,:self.num_tickers * self.time_horizon]\n",
    "        other_obs = obs[:,self.num_tickers * self.time_horizon:]\n",
    "        \n",
    "        if self.recurrent:\n",
    "            if rnn_h_a is None:\n",
    "                rnn_h_a = self.hidden_actor\n",
    "            if rnn_h_c is None:\n",
    "                rnn_h_c = self.hidden_critic\n",
    "            \n",
    "            obs = torch.reshape(price_obs, (-1, self.time_horizon, self.num_tickers))\n",
    "            obs_actor, rnn_h_a = self.gru_actor(obs, rnn_h_a)\n",
    "\n",
    "            obs_actor = obs_actor[:,-1,:] # selecting the last element\n",
    "            \n",
    "            obs_critic, rnn_h_c = self.gru_critic(obs, rnn_h_c)\n",
    "            obs_critic = obs_critic[:,-1,:] # selecting the last element\n",
    "        else:\n",
    "            obs_actor = self.fwd_actor(price_obs)\n",
    "#             print ('maxv:', get_max_weight(self.fwd_actor))\n",
    "#             print ('obsact:', torch.flatten(obs_actor))\n",
    "            \n",
    "#             print ('obs:', price_obs.shape)\n",
    "#             print ('obs_actor:', obs_actor.shape)\n",
    "            obs_critic = self.fwd_critic(price_obs)\n",
    "            \n",
    "#         obs_actor = torch.cat((obs_actor, other_obs), 1)\n",
    "#         obs_critic = torch.cat((obs_critic, other_obs), 1)\n",
    "        \n",
    "        forward_actor = self.actor(obs_actor)\n",
    "        action_dist = self.dist.evaluate(forward_actor)\n",
    "        \n",
    "        forward_critic = self.critic(obs_critic)\n",
    "        \n",
    "        return action_dist, forward_critic, rnn_h_a, rnn_h_c"
   ]
  },
  {
   "cell_type": "code",
   "execution_count": 217,
   "id": "fuzzy-bobby",
   "metadata": {},
   "outputs": [],
   "source": [
    "class RolloutBuffer:\n",
    "    def __init__(self, acmodel, env, discount=0.995, gae_lambda=0.95, device=None):\n",
    "        # TODO changed for cartpole\n",
    "        # self.episode_length = env.episode_length\n",
    "        self.episode_length = 200\n",
    "        self.device = device\n",
    "        self.acmodel = acmodel\n",
    "        self.discount = discount\n",
    "        self.gae_lambda = gae_lambda\n",
    "        \n",
    "        self.actions = None\n",
    "        self.values = None\n",
    "        self.rewards = None\n",
    "        self.log_probs = None\n",
    "        self.obss = None\n",
    "        self.gaes = None\n",
    "        \n",
    "        self.reset()\n",
    "        \n",
    "    def reset(self):\n",
    "        self.actions = torch.zeros(self.episode_length, device=self.device)\n",
    "        self.values = torch.zeros(self.episode_length, device=self.device)\n",
    "        self.rewards = torch.zeros(self.episode_length, device=self.device)\n",
    "        self.log_probs = torch.zeros(self.episode_length, device=self.device)\n",
    "        self.obss = [None] * self.episode_length\n",
    "    \n",
    "    def process_obs(self, obs):\n",
    "        # TODO: formatting stuff\n",
    "        if isinstance(obs, list):\n",
    "            obs = np.stack(obs)\n",
    "\n",
    "        if len(obs.shape) == 1: # 1 dimensional\n",
    "            obs = np.expand_dims(obs, axis=0)\n",
    "            \n",
    "        return torch.FloatTensor(obs)\n",
    "    \n",
    "    def collect_experience(self):\n",
    "        obs = env.reset()\n",
    "        total_return = 0\n",
    "        T = 0\n",
    "        \n",
    "        while True:\n",
    "            with torch.no_grad():\n",
    "                dist, value, _, _ = self.acmodel(self.process_obs(obs))\n",
    "                \n",
    "            action = dist.sample()\n",
    "            \n",
    "            self.obss[T] = obs\n",
    "            \n",
    "            obs, reward, done, _ = env.step(action)\n",
    "            \n",
    "            total_return += reward\n",
    "            \n",
    "            self.actions[T] = action\n",
    "            self.values[T] = value\n",
    "            self.rewards[T] = float(reward)\n",
    "            self.log_probs[T] = dist.log_prob(action)\n",
    "            \n",
    "            \n",
    "            T += 1\n",
    "            if done:\n",
    "                break\n",
    "                \n",
    "        self.actions = self.actions[:T]\n",
    "        self.values = self.values[:T]\n",
    "        self.rewards = self.rewards[:T]\n",
    "        self.log_probs = self.log_probs[:T]\n",
    "        self.obss = self.process_obs(self.obss[:T])\n",
    "        self.gaes = self.compute_advantage_gae(T)\n",
    "        \n",
    "\n",
    "        \n",
    "        return total_return, T\n",
    "            \n",
    "    def compute_advantage_gae(self, T):\n",
    "        def _delta(t, rewards, discount, values):\n",
    "            return rewards[t] + ((discount * values[t+1] - values[t]) if t+1 < values.shape[0] else 0)\n",
    "\n",
    "        advantages = torch.zeros_like(self.values)\n",
    "\n",
    "        n = self.values.shape[0]\n",
    "        for t in range(n):\n",
    "            advantages[t] = sum([(self.gae_lambda*self.discount)**i * _delta(t+i, self.rewards, self.discount, self.values) for i in range(n-t)])\n",
    "\n",
    "        return advantages[:T]\n",
    "        "
   ]
  },
  {
   "cell_type": "code",
   "execution_count": 4,
   "id": "neural-congo",
   "metadata": {},
   "outputs": [],
   "source": [
    "bad_rollout = None"
   ]
  },
  {
   "cell_type": "code",
   "execution_count": 234,
   "id": "satisfactory-association",
   "metadata": {},
   "outputs": [],
   "source": [
    "class PPO:\n",
    "    def __init__(self,\n",
    "                 acmodel,\n",
    "                 clip_ratio=0.2,\n",
    "                 entropy_coef=0.01,\n",
    "                 lr=1e-3,\n",
    "                 target_kl=0.01,\n",
    "                 train_iters=5):\n",
    "        \n",
    "        self.acmodel = acmodel\n",
    "        self.clip_ratio = clip_ratio\n",
    "        self.entropy_coef = entropy_coef\n",
    "        self.target_kl=target_kl\n",
    "        self.train_iters = train_iters\n",
    "        \n",
    "        self.optimizer = torch.optim.Adam(acmodel.parameters(), lr=lr)\n",
    "        \n",
    "    def update(self, rollouts):\n",
    "        # rollouts should be RolloutBuffer object\n",
    "        dist, _, _, _ = self.acmodel(rollouts.obss) # TODO may need to process these observations\n",
    "        old_logp = dist.log_prob(rollouts.actions.view(-1,self.acmodel.action_dim)).detach()\n",
    "        \n",
    "\n",
    "        policy_loss, _ = self._compute_policy_loss_ppo(rollouts.obss, old_logp, rollouts.actions, rollouts.gaes)\n",
    "        value_loss = self._compute_value_loss(rollouts.obss, rollouts.rewards)\n",
    "        \n",
    "        for i in range(self.train_iters):\n",
    "            self.optimizer.zero_grad()\n",
    "#             try:\n",
    "            pi_loss, approx_kl = self._compute_policy_loss_ppo(rollouts.obss, old_logp, rollouts.actions, rollouts.gaes)\n",
    "#             except:\n",
    "#                 print(i)\n",
    "#                 print(\"rollout obs\", rollouts.obss)\n",
    "#                 global bad_rollout\n",
    "#                 global acmodel\n",
    "#                 bad_rollout = rollouts\n",
    "#                 acmodel = self.acmodel\n",
    "                \n",
    "            v_loss = self._compute_value_loss(rollouts.obss, rollouts.rewards)\n",
    "            #print ('vloss:', v_loss, 'pi_loss:', pi_loss)\n",
    "            loss = v_loss + pi_loss\n",
    "            \n",
    "            if approx_kl > 1.5 * self.target_kl:\n",
    "                break\n",
    "            \n",
    "            loss.backward(retain_graph=True) # lol todo are we supposed to retain graph?\n",
    "\n",
    "            self.optimizer.step()\n",
    "            \n",
    "        return policy_loss.item(), value_loss.item()\n",
    "        \n",
    "    def _compute_policy_loss_ppo(self, obs, old_logp, actions, advantages):\n",
    "        policy_loss, approx_kl = 0, 0\n",
    "        \n",
    "\n",
    "        dist, _, _, _ = self.acmodel(obs)\n",
    "        \n",
    "        new_logp = dist.log_prob(actions.view(-1,self.acmodel.action_dim))\n",
    "\n",
    "#         print(new_logp[0])\n",
    "\n",
    "#         new_p, old_p = torch.exp(new_logp), torch.exp(old_logp.detach())\n",
    "#         r = new_p / old_p\n",
    "\n",
    "        \n",
    "\n",
    "        r = torch.exp(new_logp - old_logp.detach())\n",
    "\n",
    "        clamp_adv = torch.clamp(r, 1-self.clip_ratio, 1+self.clip_ratio)*advantages.view(-1,1)\n",
    "        \n",
    "        min_advs = torch.minimum(r*advantages.view(-1,1), clamp_adv)\n",
    "\n",
    "        policy_loss = -torch.mean(min_advs)\n",
    "        approx_kl = (old_logp - new_logp).mean()\n",
    "        \n",
    "        return policy_loss, approx_kl\n",
    "    \n",
    "    def _compute_value_loss(self, obs, returns):\n",
    "        _, values, _, _ = self.acmodel(obs)\n",
    "             \n",
    "\n",
    "        value_loss = torch.mean((returns.view(-1,1) - values.view(-1,1))**2)\n",
    "        \n",
    "        return value_loss\n",
    "\n"
   ]
  },
  {
   "cell_type": "code",
   "execution_count": 226,
   "id": "d22fac5c",
   "metadata": {},
   "outputs": [
    {
     "data": {
      "text/plain": [
       "ACModel(\n",
       "  (fwd_actor): Sequential(\n",
       "    (0): Linear(in_features=4, out_features=64, bias=True)\n",
       "    (1): Tanh()\n",
       "  )\n",
       "  (fwd_critic): Sequential(\n",
       "    (0): Linear(in_features=4, out_features=64, bias=True)\n",
       "    (1): Tanh()\n",
       "  )\n",
       "  (actor): Sequential(\n",
       "    (0): Linear(in_features=64, out_features=64, bias=True)\n",
       "    (1): Tanh()\n",
       "    (2): Linear(in_features=64, out_features=64, bias=True)\n",
       "    (3): Tanh()\n",
       "    (4): Linear(in_features=64, out_features=1, bias=True)\n",
       "  )\n",
       "  (critic): Sequential(\n",
       "    (0): Linear(in_features=64, out_features=64, bias=True)\n",
       "    (1): Tanh()\n",
       "    (2): Linear(in_features=64, out_features=64, bias=True)\n",
       "    (3): Tanh()\n",
       "    (4): Linear(in_features=64, out_features=1, bias=True)\n",
       "  )\n",
       "  (dist): DiagonalGaussian()\n",
       ")"
      ]
     },
     "execution_count": 226,
     "metadata": {},
     "output_type": "execute_result"
    }
   ],
   "source": []
  },
  {
   "cell_type": "markdown",
   "id": "compact-engagement",
   "metadata": {},
   "source": [
    "# Cartpole Gym Attempt"
   ]
  },
  {
   "cell_type": "code",
   "execution_count": 201,
   "id": "outside-wright",
   "metadata": {},
   "outputs": [],
   "source": [
    "import gym\n",
    "from gym.envs.registration import registry, register"
   ]
  },
  {
   "cell_type": "code",
   "execution_count": 202,
   "id": "adult-perth",
   "metadata": {},
   "outputs": [],
   "source": [
    "class CartpoleDynamics:\n",
    "    def __init__(self,\n",
    "                 timestep=0.02,\n",
    "                 m_p=0.5,\n",
    "                 m_c=0.5,\n",
    "                 l=0.6,\n",
    "                 g=-9.81,\n",
    "                 u_range=15):\n",
    "        \n",
    "        self.m_p  = m_p\n",
    "        self.m_c  = m_c\n",
    "        self.l    = l\n",
    "        self.g    = -g\n",
    "        self.dt   = timestep\n",
    "        \n",
    "        self.u_range = u_range\n",
    "\n",
    "        self.u_lb = torch.tensor([-1]).float()\n",
    "        self.u_ub = torch.tensor([1]).float()\n",
    "        self.q_shape = 4\n",
    "        self.u_shape = 1\n",
    "    \n",
    "    def _qdotdot(self, q, u):\n",
    "        x, theta, xdot, thetadot = q.T\n",
    "\n",
    "        if len(u.shape) == 2:\n",
    "            u = torch.flatten(u)\n",
    "        \n",
    "        x_dotdot = (\n",
    "            u + self.m_p * torch.sin(theta) * (\n",
    "                self.l * torch.pow(thetadot,2) + self.g * torch.cos(theta)\n",
    "            )\n",
    "        ) / (self.m_c + self.m_p * torch.sin(theta)**2)\n",
    "        \n",
    "        theta_dotdot = (\n",
    "            -u*torch.cos(theta) -\n",
    "            self.m_p * self.l * torch.pow(thetadot,2) * torch.cos(theta) * torch.sin(theta) - \n",
    "            (self.m_c + self.m_p) * self.g * torch.sin(theta)\n",
    "        ) / (self.l * (self.m_c + self.m_p * torch.sin(theta)**2))\n",
    "                \n",
    "        return torch.stack((x_dotdot, theta_dotdot), dim=-1)\n",
    "    \n",
    "    def _euler_int(self, q, qdotdot):\n",
    "        qdot_new = q[...,2:] + qdotdot * self.dt\n",
    "        q_new = q[...,:2] + self.dt * qdot_new\n",
    "\n",
    "        return torch.cat((q_new, qdot_new), dim=-1)\n",
    "    \n",
    "    def step(self, q, u):\n",
    "\n",
    "        # Check for numpy array\n",
    "        if isinstance(q, np.ndarray):\n",
    "            q = torch.from_numpy(q)\n",
    "        if isinstance(u, np.ndarray):\n",
    "            u = torch.from_numpy(u)\n",
    "\n",
    "        scaled_u = u * float(self.u_range)    \n",
    "            \n",
    "        # Check for shape issues\n",
    "        if len(q.shape) == 2:\n",
    "            q_dotdot = self._qdotdot(q, scaled_u)\n",
    "        elif len(q.shape) == 1:\n",
    "            q_dotdot = self._qdotdot(q.reshape(1,-1), scaled_u)\n",
    "        else:\n",
    "            raise RuntimeError('Invalid q shape')\n",
    "            \n",
    "        new_q = self._euler_int(q, q_dotdot)\n",
    "\n",
    "        if len(q.shape) == 1:\n",
    "            new_q = new_q[0]\n",
    "            \n",
    "        return new_q\n",
    "    \n",
    "    # given q [n, q_shape] and u [n, t] run the trajectories\n",
    "    def run_batch_of_trajectories(self, q, u):\n",
    "        qs = [q]\n",
    "        \n",
    "        for t in range(u.shape[1]):\n",
    "            qs.append(self.step(qs[-1], u[:,t]))\n",
    "                \n",
    "        return torch.stack(qs, dim=1)\n",
    "    \n",
    "    def reward(self, q, u):\n",
    "        if isinstance(q, np.ndarray):\n",
    "            q = torch.from_numpy(q)\n",
    "        if isinstance(u, np.ndarray):\n",
    "            u = torch.from_numpy(u)\n",
    "\n",
    "        angle_term = 0.5*(1-torch.cos(q[...,1]))\n",
    "        pos_term = -0.5*torch.pow(q[...,0],2)\n",
    "        ctrl_cost = -0.001*(u**2).sum(dim=-1)\n",
    "                        \n",
    "        return angle_term + pos_term + ctrl_cost\n",
    "    \n",
    "class CartpoleGym(gym.Env):\n",
    "    def __init__(self, time_horizon=5, timestep_limit=200):\n",
    "        self.dynamics = CartpoleDynamics()\n",
    "        \n",
    "        self.timestep_limit = timestep_limit\n",
    "        self.time_horizon = time_horizon\n",
    "#         self.memory = np.zeros(4 * time_horizon)\n",
    "        self.reset()\n",
    "\n",
    "    def reset(self):\n",
    "        self.q_sim = np.zeros(4)\n",
    "        self.timesteps = 0\n",
    "\n",
    "        self.traj = [self.get_observation()]\n",
    "        \n",
    "        for t in range(self.time_horizon-1):\n",
    "            # start with a few random actions to initialize\n",
    "            action = np.random.uniform(low=self.dynamics.u_lb.numpy(), high=self.dynamics.u_ub.numpy())\n",
    "            self.step(action)\n",
    "        \n",
    "        return np.array(self.traj[-self.time_horizon:]).flatten()\n",
    "\n",
    "    def get_observation(self):\n",
    "        return self.q_sim\n",
    "            \n",
    "    def step(self, action):\n",
    "        action = np.clip(action, self.action_space.low, self.action_space.high)[0]\n",
    "        \n",
    "        new_q = self.dynamics.step(\n",
    "            self.q_sim, action\n",
    "        )\n",
    "        \n",
    "        if not isinstance(action, torch.Tensor):\n",
    "            action = torch.tensor(action)\n",
    "        \n",
    "        reward = self.dynamics.reward(\n",
    "            new_q, action\n",
    "        ).numpy()\n",
    "        \n",
    "        self.q_sim = new_q.numpy()\n",
    "        done = self.is_done()\n",
    "        \n",
    "        self.timesteps += 1\n",
    "\n",
    "        self.traj.append(self.q_sim)\n",
    "        \n",
    "        return np.array(self.traj[-self.time_horizon:]).flatten(), reward, done, {}\n",
    "    \n",
    "    def is_done(self):\n",
    "        # Kill trial when too much time has passed\n",
    "        if self.timesteps >= self.timestep_limit:\n",
    "            return True\n",
    "                \n",
    "        return False\n",
    "        \n",
    "    @property\n",
    "    def action_space(self):\n",
    "        return gym.spaces.Box(low=self.dynamics.u_lb.numpy(), high=self.dynamics.u_ub.numpy())\n",
    "\n",
    "    @property\n",
    "    def observation_space(self):\n",
    "        return gym.spaces.Box(\n",
    "            low= np.array([-np.inf, -np.inf, -np.inf, -np.inf]),\n",
    "            high=np.array([np.inf,   np.inf,  np.inf,  np.inf])\n",
    "        )\n",
    "    \n",
    "env_name = 'CartpoleWithMemory-v0'\n",
    "if env_name in registry.env_specs:\n",
    "    del registry.env_specs[env_name]\n",
    "register(\n",
    "    id=env_name,\n",
    "    entry_point=f'{__name__}:CartpoleGym',\n",
    ")\n",
    "env = gym.make('CartpoleWithMemory-v0')"
   ]
  },
  {
   "cell_type": "code",
   "execution_count": 8,
   "id": "incomplete-strain",
   "metadata": {},
   "outputs": [
    {
     "data": {
      "text/plain": [
       "array([ 0.        ,  0.        ,  0.        ,  0.        ,  0.00731243,\n",
       "       -0.01218738,  0.36562141, -0.60936902,  0.00287034, -0.00470564,\n",
       "       -0.22210465,  0.37408685,  0.00852489, -0.01402069,  0.28272764,\n",
       "       -0.46575225,  0.01237083, -0.02022999,  0.1922972 , -0.31046505])"
      ]
     },
     "execution_count": 8,
     "metadata": {},
     "output_type": "execute_result"
    }
   ],
   "source": [
    "env.reset()"
   ]
  },
  {
   "cell_type": "code",
   "execution_count": 9,
   "id": "excessive-layout",
   "metadata": {},
   "outputs": [
    {
     "data": {
      "text/plain": [
       "(60.555091857910156, 31.47611427307129)"
      ]
     },
     "execution_count": 9,
     "metadata": {},
     "output_type": "execute_result"
    }
   ],
   "source": [
    "# recurrent model\n",
    "acmodel = ACModel(num_tickers=4, time_horizon=5, num_ta_indicators=0, recurrent=True, hidden_size=32)\n",
    "rollouts = RolloutBuffer(acmodel, env)\n",
    "rollouts.collect_experience()\n",
    "ppo = PPO(acmodel)\n",
    "ppo.update(rollouts)"
   ]
  },
  {
   "cell_type": "code",
   "execution_count": 10,
   "id": "chief-homeless",
   "metadata": {},
   "outputs": [
    {
     "data": {
      "text/plain": [
       "(1832.9512939453125, 23879.939453125)"
      ]
     },
     "execution_count": 10,
     "metadata": {},
     "output_type": "execute_result"
    }
   ],
   "source": [
    "# feedforward model\n",
    "acmodel = ACModel(num_tickers=4, time_horizon=5, num_ta_indicators=0, recurrent=False, hidden_size=32)\n",
    "rollouts = RolloutBuffer(acmodel, env)\n",
    "rollouts.collect_experience()\n",
    "ppo = PPO(acmodel)\n",
    "ppo.update(rollouts)"
   ]
  },
  {
   "cell_type": "markdown",
   "id": "indoor-bottle",
   "metadata": {},
   "source": [
    "Ok so looks like the Cartpole gym syntactically works.. Let's try to train"
   ]
  },
  {
   "cell_type": "markdown",
   "id": "optional-optimum",
   "metadata": {},
   "source": [
    "# Run experiment on Cartpole"
   ]
  },
  {
   "cell_type": "code",
   "execution_count": 236,
   "id": "selected-egyptian",
   "metadata": {},
   "outputs": [],
   "source": [
    "# Adapted from 6.884 HW4\n",
    "\n",
    "def run_experiment(acmodel, acmodel_kwargs, ppo_kwargs, max_episodes=200000, score_threshold=0.8):\n",
    "    # acmodel_args should be dictionary corresponding to inputs of acmodel\n",
    "    # ie {num_tickers: 4, time_horizon: 5, etc..}\n",
    "    device = torch.device(\"cuda\" if torch.cuda.is_available() else \"cpu\")\n",
    "    env = gym.make('CartpoleWithMemory-v0')\n",
    "    \n",
    "    \n",
    "    acmodel.to(device)\n",
    "\n",
    "    is_solved = False\n",
    "    \n",
    "    SMOOTH_REWARD_WINDOW = 50\n",
    "\n",
    "    pd_logs, rewards = [], [0]*SMOOTH_REWARD_WINDOW\n",
    "    \n",
    "    num_frames = 0\n",
    "    rollouts = RolloutBuffer(acmodel, env)\n",
    "    ppo = PPO(acmodel, **ppo_kwargs)\n",
    "\n",
    "    pbar = tqdm(range(max_episodes))\n",
    "    for update in pbar:\n",
    "        rollouts.reset() # resetting the buffer\n",
    "        total_return, T = rollouts.collect_experience()\n",
    "        policy_loss, value_loss = ppo.update(rollouts)\n",
    "        \n",
    "        num_frames += T\n",
    "        rewards.append(total_return)\n",
    "        \n",
    "        smooth_reward = np.mean(rewards[-SMOOTH_REWARD_WINDOW:])\n",
    "\n",
    "        data = {'episode':update, 'num_frames':num_frames, 'smooth_reward':smooth_reward,\n",
    "                'reward':total_return, 'policy_loss': policy_loss}\n",
    "\n",
    "        pd_logs.append(data)\n",
    "\n",
    "        pbar.set_postfix(data)\n",
    "\n",
    "        # Early terminate\n",
    "        if smooth_reward >= score_threshold:\n",
    "            is_solved = True\n",
    "            break\n",
    "\n",
    "    if is_solved:\n",
    "        print('Solved!')\n",
    "    else:\n",
    "        print('Unsolved. Check your implementation.')\n",
    "    \n",
    "    return pd.DataFrame(pd_logs).set_index('episode')"
   ]
  },
  {
   "cell_type": "code",
   "execution_count": null,
   "id": "40b8211d",
   "metadata": {},
   "outputs": [],
   "source": []
  },
  {
   "cell_type": "code",
   "execution_count": null,
   "id": "8080f052",
   "metadata": {},
   "outputs": [],
   "source": []
  },
  {
   "cell_type": "code",
   "execution_count": 238,
   "id": "complimentary-correspondence",
   "metadata": {
    "scrolled": true
   },
   "outputs": [
    {
     "name": "stderr",
     "output_type": "stream",
     "text": [
      " 92%|█████████▏| 184/200 [01:33<00:08,  1.96it/s, episode=184, num_frames=36445, smooth_reward=20.2, reward=26.4, policy_loss=-2.35]    "
     ]
    },
    {
     "name": "stdout",
     "output_type": "stream",
     "text": [
      "Solved!\n"
     ]
    },
    {
     "name": "stderr",
     "output_type": "stream",
     "text": [
      "\n"
     ]
    }
   ],
   "source": [
    "# feedforward\n",
    "acmodel_kwargs = {'num_tickers': 4, 'time_horizon': 1, 'num_ta_indicators': 0, 'recurrent': False, 'hidden_size': 64}\n",
    "acmodel = ACModel(**acmodel_kwargs)\n",
    "ppo_kwargs = {'lr': 1e-2}\n",
    "df = run_experiment(acmodel, acmodel_kwargs, ppo_kwargs, max_episodes=200, score_threshold=20)"
   ]
  },
  {
   "cell_type": "code",
   "execution_count": 242,
   "id": "7e95c423",
   "metadata": {},
   "outputs": [
    {
     "data": {
      "text/plain": [
       "[<matplotlib.lines.Line2D at 0x138dd5be0>]"
      ]
     },
     "execution_count": 242,
     "metadata": {},
     "output_type": "execute_result"
    },
    {
     "data": {
      "image/png": "[encoded data removed]",
      "text/plain": [
       "<Figure size 432x288 with 1 Axes>"
      ]
     },
     "metadata": {
      "needs_background": "light"
     },
     "output_type": "display_data"
    }
   ],
   "source": [
    "plt.plot(df.index, df['smooth_reward'])"
   ]
  },
  {
   "cell_type": "code",
   "execution_count": 170,
   "id": "senior-parallel",
   "metadata": {},
   "outputs": [
    {
     "data": {
      "text/plain": [
       "<torch.autograd.anomaly_mode.set_detect_anomaly at 0x7fdcc7009700>"
      ]
     },
     "execution_count": 170,
     "metadata": {},
     "output_type": "execute_result"
    }
   ],
   "source": [
    "torch.autograd.set_detect_anomaly(True)"
   ]
  },
  {
   "cell_type": "code",
   "execution_count": 17,
   "id": "robust-chicago",
   "metadata": {},
   "outputs": [],
   "source": [
    "acmodel_kwargs = {'num_tickers': 4, 'time_horizon': 1, 'num_ta_indicators': 0, 'recurrent': False, 'hidden_size': 64}\n",
    "ppo_kwargs = {'lr': 1e-3}\n",
    "acm = ACModel(**acmodel_kwargs)"
   ]
  },
  {
   "cell_type": "code",
   "execution_count": 49,
   "id": "dd342882",
   "metadata": {},
   "outputs": [
    {
     "data": {
      "text/plain": [
       "tensor(0.9501, grad_fn=<MaxBackward1>)"
      ]
     },
     "execution_count": 49,
     "metadata": {},
     "output_type": "execute_result"
    }
   ],
   "source": [
    "torch.max(torch.abs(list(acm.parameters())[0]))"
   ]
  },
  {
   "cell_type": "code",
   "execution_count": 167,
   "id": "vital-approach",
   "metadata": {},
   "outputs": [
    {
     "name": "stdout",
     "output_type": "stream",
     "text": [
      "tensor(nan, grad_fn=<SelectBackward>)\n",
      "tensor(nan, grad_fn=<SelectBackward>) tensor([[1.]])\n"
     ]
    }
   ],
   "source": [
    "dist, val, _, _ = acmodel(bad_rollout.obss)"
   ]
  },
  {
   "cell_type": "code",
   "execution_count": null,
   "id": "fatty-marks",
   "metadata": {},
   "outputs": [],
   "source": []
  },
  {
   "cell_type": "code",
   "execution_count": 169,
   "id": "informed-palestine",
   "metadata": {
    "scrolled": false
   },
   "outputs": [
    {
     "name": "stdout",
     "output_type": "stream",
     "text": [
      "fwd_actor.0.weight Parameter containing:\n",
      "tensor([[nan, nan, nan,  ..., nan, nan, nan],\n",
      "        [nan, nan, nan,  ..., nan, nan, nan],\n",
      "        [nan, nan, nan,  ..., nan, nan, nan],\n",
      "        ...,\n",
      "        [nan, nan, nan,  ..., nan, nan, nan],\n",
      "        [nan, nan, nan,  ..., nan, nan, nan],\n",
      "        [nan, nan, nan,  ..., nan, nan, nan]], requires_grad=True)\n",
      "fwd_actor.0.bias Parameter containing:\n",
      "tensor([nan, nan, nan, nan, nan, nan, nan, nan, nan, nan, nan, nan, nan, nan, nan, nan, nan, nan, nan, nan, nan, nan, nan, nan,\n",
      "        nan, nan, nan, nan, nan, nan, nan, nan, nan, nan, nan, nan, nan, nan, nan, nan, nan, nan, nan, nan, nan, nan, nan, nan,\n",
      "        nan, nan, nan, nan, nan, nan, nan, nan, nan, nan, nan, nan, nan, nan, nan, nan],\n",
      "       requires_grad=True)\n",
      "fwd_critic.0.weight Parameter containing:\n",
      "tensor([[-0.1554, -0.1525, -0.0149,  ...,  0.2803,  0.1742, -0.2377],\n",
      "        [-0.2915, -0.2077,  0.3201,  ..., -0.0714, -0.1693, -0.2199],\n",
      "        [ 0.1024, -0.0691,  0.0253,  ...,  0.0669,  0.0149, -0.2636],\n",
      "        ...,\n",
      "        [-0.2078, -0.0824,  0.0546,  ..., -0.1069, -0.0641, -0.2592],\n",
      "        [ 0.0145, -0.0209,  0.3356,  ...,  0.0996, -0.2404,  0.4291],\n",
      "        [-0.1941, -0.1300, -0.1999,  ...,  0.3586,  0.0224, -0.0121]],\n",
      "       requires_grad=True)\n",
      "fwd_critic.0.bias Parameter containing:\n",
      "tensor([-0.0110,  0.0102, -0.0138, -0.0112, -0.0112, -0.0101, -0.0098, -0.0036,\n",
      "        -0.0098,  0.0150, -0.0107,  0.0094, -0.0130,  0.0024, -0.0088,  0.0115,\n",
      "        -0.0093, -0.0130, -0.0109,  0.0107, -0.0101,  0.0105,  0.0040,  0.0174,\n",
      "        -0.0118, -0.0127,  0.0109,  0.0146, -0.0121,  0.0104,  0.0105, -0.0104,\n",
      "         0.0089,  0.0114, -0.0110,  0.0126,  0.0093, -0.0093, -0.0102,  0.0121,\n",
      "        -0.0147,  0.0106, -0.0117,  0.0114,  0.0108,  0.0112,  0.0126,  0.0105,\n",
      "         0.0103,  0.0103, -0.0136,  0.0066,  0.0093,  0.0138,  0.0151, -0.0067,\n",
      "        -0.0114,  0.0104, -0.0098,  0.0096, -0.0111, -0.0119,  0.0080,  0.0108],\n",
      "       requires_grad=True)\n",
      "actor.0.weight Parameter containing:\n",
      "tensor([[nan, nan, nan,  ..., nan, nan, nan],\n",
      "        [nan, nan, nan,  ..., nan, nan, nan],\n",
      "        [nan, nan, nan,  ..., nan, nan, nan],\n",
      "        ...,\n",
      "        [nan, nan, nan,  ..., nan, nan, nan],\n",
      "        [nan, nan, nan,  ..., nan, nan, nan],\n",
      "        [nan, nan, nan,  ..., nan, nan, nan]], requires_grad=True)\n",
      "actor.0.bias Parameter containing:\n",
      "tensor([nan, nan, nan, nan, nan, nan, nan, nan, nan, nan, nan, nan, nan, nan, nan, nan, nan, nan, nan, nan, nan, nan, nan, nan,\n",
      "        nan, nan, nan, nan, nan, nan, nan, nan, nan, nan, nan, nan, nan, nan, nan, nan, nan, nan, nan, nan, nan, nan, nan, nan,\n",
      "        nan, nan, nan, nan, nan, nan, nan, nan, nan, nan, nan, nan, nan, nan, nan, nan],\n",
      "       requires_grad=True)\n",
      "actor.2.weight Parameter containing:\n",
      "tensor([[nan, nan, nan,  ..., nan, nan, nan],\n",
      "        [nan, nan, nan,  ..., nan, nan, nan],\n",
      "        [nan, nan, nan,  ..., nan, nan, nan],\n",
      "        ...,\n",
      "        [nan, nan, nan,  ..., nan, nan, nan],\n",
      "        [nan, nan, nan,  ..., nan, nan, nan],\n",
      "        [nan, nan, nan,  ..., nan, nan, nan]], requires_grad=True)\n",
      "actor.2.bias Parameter containing:\n",
      "tensor([nan, nan, nan, nan, nan, nan, nan, nan, nan, nan, nan, nan, nan, nan, nan, nan, nan, nan, nan, nan, nan, nan, nan, nan,\n",
      "        nan, nan, nan, nan, nan, nan, nan, nan, nan, nan, nan, nan, nan, nan, nan, nan, nan, nan, nan, nan, nan, nan, nan, nan,\n",
      "        nan, nan, nan, nan, nan, nan, nan, nan, nan, nan, nan, nan, nan, nan, nan, nan],\n",
      "       requires_grad=True)\n",
      "actor.4.weight Parameter containing:\n",
      "tensor([[nan, nan, nan, nan, nan, nan, nan, nan, nan, nan, nan, nan, nan, nan, nan, nan, nan, nan, nan, nan, nan, nan, nan, nan,\n",
      "         nan, nan, nan, nan, nan, nan, nan, nan, nan, nan, nan, nan, nan, nan, nan, nan, nan, nan, nan, nan, nan, nan, nan, nan,\n",
      "         nan, nan, nan, nan, nan, nan, nan, nan, nan, nan, nan, nan, nan, nan, nan, nan]],\n",
      "       requires_grad=True)\n",
      "actor.4.bias Parameter containing:\n",
      "tensor([nan], requires_grad=True)\n",
      "critic.0.weight Parameter containing:\n",
      "tensor([[ 0.1322, -0.1638, -0.2577,  ...,  0.0281,  0.0740, -0.1032],\n",
      "        [ 0.0289,  0.0992,  0.1480,  ...,  0.0085,  0.0162, -0.2812],\n",
      "        [-0.0050,  0.0107,  0.0803,  ...,  0.2817, -0.0382,  0.0435],\n",
      "        ...,\n",
      "        [-0.0024,  0.1413, -0.0404,  ...,  0.1850, -0.1002,  0.0553],\n",
      "        [ 0.0848,  0.2427, -0.2510,  ..., -0.1243,  0.0140, -0.2373],\n",
      "        [ 0.1311, -0.0905,  0.0249,  ..., -0.0426, -0.1441, -0.0486]],\n",
      "       requires_grad=True)\n",
      "critic.0.bias Parameter containing:\n",
      "tensor([-0.0080,  0.0103,  0.0103, -0.0102,  0.0104,  0.0113, -0.0094,  0.0092,\n",
      "         0.0109, -0.0101, -0.0093, -0.0099, -0.0100,  0.0101,  0.0100, -0.0100,\n",
      "        -0.0097, -0.0102,  0.0101, -0.0103, -0.0068, -0.0099, -0.0101, -0.0105,\n",
      "        -0.0080, -0.0100, -0.0100, -0.0096,  0.0124, -0.0120,  0.0100, -0.0101,\n",
      "         0.0103,  0.0029,  0.0103, -0.0092,  0.0128, -0.0109,  0.0095,  0.0103,\n",
      "        -0.0114,  0.0138, -0.0108, -0.0102,  0.0096,  0.0099, -0.0103, -0.0099,\n",
      "        -0.0102,  0.0137,  0.0063,  0.0097,  0.0042, -0.0087,  0.0109,  0.0092,\n",
      "        -0.0109,  0.0116,  0.0097,  0.0098, -0.0076,  0.0105,  0.0087, -0.0094],\n",
      "       requires_grad=True)\n",
      "critic.2.weight Parameter containing:\n",
      "tensor([[-0.0003,  0.1748,  0.2297,  ..., -0.0485, -0.0254, -0.0901],\n",
      "        [-0.0336,  0.1121, -0.1059,  ..., -0.1447, -0.0048, -0.0468],\n",
      "        [ 0.0023,  0.0965,  0.0014,  ..., -0.0323,  0.0082, -0.0639],\n",
      "        ...,\n",
      "        [-0.0222,  0.0319, -0.0074,  ...,  0.1123,  0.0630, -0.0486],\n",
      "        [ 0.0131, -0.0272, -0.0732,  ...,  0.1271,  0.0237,  0.1328],\n",
      "        [ 0.0646,  0.1976,  0.0356,  ...,  0.1447,  0.0900, -0.1440]],\n",
      "       requires_grad=True)\n",
      "critic.2.bias Parameter containing:\n",
      "tensor([-0.0097,  0.0102,  0.0099, -0.0101, -0.0100, -0.0094,  0.0098, -0.0097,\n",
      "         0.0098, -0.0101,  0.0099, -0.0098,  0.0096,  0.0081, -0.0097,  0.0097,\n",
      "         0.0098,  0.0098, -0.0098, -0.0098, -0.0097,  0.0101,  0.0097,  0.0100,\n",
      "        -0.0098,  0.0094, -0.0099,  0.0097,  0.0098,  0.0100, -0.0096, -0.0097,\n",
      "         0.0098, -0.0101, -0.0098, -0.0099, -0.0098,  0.0097, -0.0099,  0.0101,\n",
      "         0.0098, -0.0096,  0.0098,  0.0098,  0.0097,  0.0099,  0.0096,  0.0098,\n",
      "         0.0098, -0.0105, -0.0097,  0.0102,  0.0107, -0.0098,  0.0097,  0.0101,\n",
      "         0.0102, -0.0101, -0.0098,  0.0099,  0.0100, -0.0097,  0.0102, -0.0097],\n",
      "       requires_grad=True)\n",
      "critic.4.weight Parameter containing:\n",
      "tensor([[ 0.0942, -0.0619, -0.0958,  0.1688,  0.1936,  0.0072, -0.0568,  0.0255,\n",
      "         -0.1139,  0.0613, -0.0978,  0.3367, -0.0259,  0.0032,  0.1473, -0.0916,\n",
      "         -0.0698, -0.0952,  0.0162,  0.1691,  0.0583, -0.0637, -0.2027, -0.2077,\n",
      "          0.1262, -0.0074,  0.1131, -0.0979, -0.3115, -0.2274,  0.1315,  0.0822,\n",
      "         -0.1496,  0.0022,  0.1093,  0.0255,  0.2516, -0.1186,  0.3176, -0.0952,\n",
      "         -0.0679,  0.0253, -0.0834, -0.0962, -0.0110, -0.0719, -0.0244, -0.0345,\n",
      "         -0.2146,  0.0185,  0.0291, -0.0864, -0.0160,  0.0918, -0.0621, -0.0501,\n",
      "         -0.1731,  0.0800,  0.0602, -0.0681, -0.0616,  0.0400, -0.1015,  0.0333]],\n",
      "       requires_grad=True)\n",
      "critic.4.bias Parameter containing:\n",
      "tensor([-0.0098], requires_grad=True)\n",
      "dist.logstd Parameter containing:\n",
      "tensor([[0.]])\n"
     ]
    }
   ],
   "source": [
    "for name, param in acmodel.named_parameters():\n",
    "    print(name, param)"
   ]
  },
  {
   "cell_type": "code",
   "execution_count": null,
   "id": "clear-belgium",
   "metadata": {},
   "outputs": [],
   "source": []
  },
  {
   "cell_type": "code",
   "execution_count": null,
   "id": "falling-organization",
   "metadata": {},
   "outputs": [],
   "source": []
  },
  {
   "cell_type": "code",
   "execution_count": 140,
   "id": "final-plymouth",
   "metadata": {},
   "outputs": [
    {
     "data": {
      "text/plain": [
       "<AxesSubplot:xlabel='num_frames'>"
      ]
     },
     "execution_count": 140,
     "metadata": {},
     "output_type": "execute_result"
    },
    {
     "data": {
      "image/png": "[encoded data removed]",
      "text/plain": [
       "<Figure size 432x288 with 1 Axes>"
      ]
     },
     "metadata": {
      "needs_background": "light"
     },
     "output_type": "display_data"
    }
   ],
   "source": [
    "df.plot(x='num_frames', y=['reward', 'smooth_reward'])"
   ]
  },
  {
   "cell_type": "code",
   "execution_count": null,
   "id": "informed-costa",
   "metadata": {},
   "outputs": [
    {
     "name": "stderr",
     "output_type": "stream",
     "text": [
      "  0%|          | 16/200000 [04:13<791:24:35, 14.25s/it, episode=15, num_frames=3152, smooth_reward=-76.9, reward=9.94, policy_loss=-.95]   "
     ]
    }
   ],
   "source": [
    "# recurrent\n",
    "acmodel_args = {'num_tickers': 4, 'time_horizon': 5, 'num_ta_indicators': 0, 'recurrent': True, 'hidden_size': 16}\n",
    "df = run_experiment(acmodel_args, score_threshold=0)"
   ]
  },
  {
   "cell_type": "code",
   "execution_count": null,
   "id": "representative-softball",
   "metadata": {},
   "outputs": [],
   "source": [
    "df.plot(x='num_frames', y=['reward', 'smooth_reward'])"
   ]
  },
  {
   "cell_type": "code",
   "execution_count": null,
   "id": "right-boundary",
   "metadata": {},
   "outputs": [],
   "source": []
  }
 ],
 "metadata": {
  "kernelspec": {
   "display_name": "Python 3",
   "language": "python",
   "name": "python3"
  },
  "language_info": {
   "codemirror_mode": {
    "name": "ipython",
    "version": 3
   },
   "file_extension": ".py",
   "mimetype": "text/x-python",
   "name": "python",
   "nbconvert_exporter": "python",
   "pygments_lexer": "ipython3",
   "version": "3.7.3"
  }
 },
 "nbformat": 4,
 "nbformat_minor": 5
}
